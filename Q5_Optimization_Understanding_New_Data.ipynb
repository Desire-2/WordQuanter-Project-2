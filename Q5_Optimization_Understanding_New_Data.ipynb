{
  "nbformat": 4,
  "nbformat_minor": 5,
  "cells": [
    {
      "cell_type": "markdown",
      "metadata": {
        "id": "view-in-github",
        "colab_type": "text"
      },
      "source": [
        "<a href=\"https://colab.research.google.com/github/Desire-2/WordQuanter-Project-2/blob/main/Q5_Optimization_Understanding_New_Data.ipynb\" target=\"_parent\"><img src=\"https://colab.research.google.com/assets/colab-badge.svg\" alt=\"Open In Colab\"/></a>"
      ]
    },
    {
      "cell_type": "markdown",
      "metadata": {
        "id": "Ss54h-vglY34"
      },
      "source": [
        "# Q5. Optimization Understanding"
      ],
      "id": "Ss54h-vglY34"
    },
    {
      "cell_type": "markdown",
      "metadata": {
        "id": "3my2GQG4lY37"
      },
      "source": [
        "\n",
        "\n",
        "### What is cross-validation in words?\n",
        "\n",
        "Cross-validation is a statistical method used to estimate the performance of a machine learning model on an independent dataset. It involves partitioning the dataset into subsets, training the model on a portion of the data, and evaluating its performance on the remaining unseen data. This process helps to assess how well the model generalizes to new data and to detect issues like overfitting or underfitting.\n",
        "\n",
        "### What is k-fold cross validation in words?\n",
        "\n",
        "K-fold cross-validation is a specific type of cross-validation where the dataset is divided into 'k' equally sized folds or subsets. The model is then trained 'k' times, with each iteration using a different fold as the validation set and the remaining k-1 folds as the training set. The results from each fold are then averaged to produce a single, more robust estimate of the model's performance. This method ensures that every data point is used for both training and validation exactly once, reducing bias and variance in the performance estimate.\n",
        "\n",
        "### What is the Jaccard distance?\n",
        "\n",
        "The Jaccard distance is a metric widely used in academia to measure the similarity or dissimilarity between two sets. Its range always lies between 0 and 1, where 0 signifies complete similarity (in the case of identical sets), and 1 represents complete dissimilarity (in the presence of no shared elements). The Jaccard distance is normalized, meaning its value is independent of the size of the sets being compared, and solely depends on their relative intersection sizes and the overall set union.\n",
        "\n",
        "### Compare the Jaccard distance to 2 of the distance metrics discussed in the lessons.\n",
        "\n",
        "While the paper primarily focuses on the Jaccard distance for comparing feature sets, other common distance metrics include Euclidean distance and Cosine similarity.\n",
        "\n",
        "- **Euclidean Distance**: This metric measures the straight-line distance between two points in Euclidean space. Unlike Jaccard distance, which is used for set comparison and binary data, Euclidean distance is typically applied to numerical data and is sensitive to the magnitude of differences between data points. A smaller Euclidean distance indicates greater similarity.\n",
        "\n",
        "- **Cosine Similarity**: This metric measures the cosine of the angle between two non-zero vectors in an inner product space. It is often used to measure similarity between documents or in recommender systems. Cosine similarity ranges from -1 to 1, where 1 means identical orientation (most similar), 0 means orthogonal (no similarity), and -1 means diametrically opposed. While Jaccard distance focuses on the presence or absence of shared elements, Cosine similarity focuses on the orientation of vectors, making it less sensitive to magnitude differences and more suitable for high-dimensional data where magnitude is less important than direction.\n",
        "\n",
        "### How do the authors define an optimal solution?\n",
        "\n",
        "Based on the context of the paper, particularly in Section 3.1 \"Practical Implications for Investors in Emerging Markets\" and the discussion around feature selection and model performance, the authors implicitly define an optimal solution as one that achieves a high prediction accuracy while also optimizing computational resources and avoiding overfitting. For instance, they discuss how selecting a subset of features (Selected(5)) improves accuracy and reduces training time compared to using the full set of features. This suggests that an optimal solution balances predictive power with efficiency and generalization capabilities.\n"
      ],
      "id": "3my2GQG4lY37"
    },
    {
      "cell_type": "markdown",
      "metadata": {
        "id": "AIPw3hiylY39"
      },
      "source": [
        "\n",
        "## Step 1. Financial Problem\n",
        "\n",
        "### What is the financial problem the authors aim to solve with their model?\n",
        "\n",
        "The authors aim to solve the financial problem of predicting stock market movements in emerging markets to aid investors in market timing and risk management. Their model seeks to help investors ascertain the optimal timing for entering or exiting positions in Exchange Traded Funds (ETFs), thereby maximizing returns and minimizing losses. By providing insights into market dynamics, the model helps investors adjust their positions in response to changing market conditions, mitigating risks associated with market fluctuations and diminishing exposure to volatility.\n",
        "\n",
        "### How does predicting stock market movements in emerging markets differ from predicting in developed markets, and why is this distinction significant for the model's design?\n",
        "\n",
        "Predicting stock market movements in emerging markets differs significantly from predicting in developed markets due to several key characteristics inherent to emerging economies. Emerging markets, such as those in the Asia-Pacific region and Latin America (e.g., Brazil, Chile, Mexico, China, and India), are characterized by rapid growth, high productivity levels, increased middle-class interest, higher volatility, lower liquidity in local debt and equity markets, and substantial growth potential.\n",
        "\n",
        "This distinction is significant for the model's design because:\n",
        "\n",
        "- **Higher Volatility and Lower Liquidity**: Emerging markets often exhibit greater price swings and less trading volume compared to developed markets. This can make traditional predictive models, which might rely on more stable patterns, less effective. The model needs to be robust enough to handle these amplified fluctuations and potentially less predictable behaviors.\n",
        "\n",
        "- **Rapid Growth and Evolving Dynamics**: The rapid growth and evolving economic structures in emerging markets mean that historical data might be less indicative of future performance. The model must be adaptable and capable of identifying new trends and patterns as these markets mature and change. This necessitates a model that can continuously learn and adjust, such as the neural network approach used by the authors.\n",
        "\n",
        "- **Data Availability and Quality**: Data in emerging markets might be less standardized, less comprehensive, or less frequently updated than in developed markets. This can pose challenges for model training and validation, requiring more sophisticated data processing and feature engineering techniques.\n",
        "\n",
        "- **Unique Economic and Political Factors**: Emerging markets are often more susceptible to unique local economic and political events, which can have a disproportionate impact on stock prices. A robust model for these markets needs to implicitly or explicitly account for these idiosyncratic factors, even if they are not directly included as features.\n",
        "\n",
        "In essence, the model's design must account for the increased complexity, uncertainty, and dynamic nature of emerging markets, which are not as prevalent in more stable and mature developed markets.\n"
      ],
      "id": "AIPw3hiylY39"
    },
    {
      "cell_type": "markdown",
      "metadata": {
        "id": "UTDHDOaelY3-"
      },
      "source": [
        "\n",
        "## Step 2. Application\n",
        "\n",
        "### Describe the main takeaways of the results.\n",
        "\n",
        "The main takeaways from the results of the study are centered around the effectiveness of optimizing technical indicators and using neural networks for predicting stock market movements in emerging markets. Key findings include:\n",
        "\n",
        "- **Improved Prediction Accuracy with Feature Selection**: The study demonstrates that selecting a subset of features, specifically the `Selected(5)` set, significantly improves prediction accuracy (between 77.82% and 80.27%) compared to using the complete set of features. This indicates that not all technical indicators are equally useful, and a focused selection can lead to better performance.\n",
        "\n",
        "- **Enhanced Computational Efficiency**: By reducing the number of features used, the model achieves substantial reductions in computational resources, including training and prediction time. This is crucial for practical applications, especially in high-dimensional problems where processing large datasets can be resource-intensive.\n",
        "\n",
        "- **Robustness Across Different ETFs**: The consistent improvement in accuracy across different ETFs (iShares MSCI Chile ETF (ECH), iShares MSCI Brazil ETF (EWZ), and iShares MSCI Core S&P 500 ETF (IVV)) suggests that the methodology is robust and generalizable to various emerging market instruments.\n",
        "\n",
        "- **Validation of Neural Network Approach**: The results validate the use of neural networks combined with optimized technical indicators as an effective approach for predicting stock market trends in complex and volatile emerging markets.\n"
      ],
      "id": "UTDHDOaelY3-"
    },
    {
      "cell_type": "markdown",
      "metadata": {
        "id": "JNDBCFSHlY3_"
      },
      "source": [
        "\n",
        "## Step 3. Replication\n",
        "\n",
        "For replication, we will focus on the iShares MSCI Chile ETF (ECH) and implement k-fold cross-validation using correlation as the metric. We will use the provided `FUND_US_BATS_ECH.csv` dataset.\n",
        "\n",
        "### Fund Selection\n",
        "\n",
        "We have chosen the **iShares MSCI Chile ETF (ECH)** for this replication exercise.\n",
        "\n",
        "### Data Loading and Preprocessing\n",
        "\n",
        "We will load the provided historical data for ECH and calculate a simple technical indicator (10-day Simple Moving Average) to demonstrate the k-fold cross-validation process.\n"
      ],
      "id": "JNDBCFSHlY3_"
    },
    {
      "cell_type": "code",
      "execution_count": null,
      "metadata": {
        "colab": {
          "base_uri": "https://localhost:8080/"
        },
        "id": "btMzn4oJlY3_",
        "outputId": "0301f0be-084a-4f38-82e4-4c35d115440e"
      },
      "outputs": [
        {
          "output_type": "stream",
          "name": "stdout",
          "text": [
            "\n",
            "Processed Data Head:\n",
            "             Open   High    Low  Close   Volume  SMA_10  next_day_close  \\\n",
            "Date                                                                      \n",
            "2025-07-07  31.58  31.58  30.93  31.02  325,268  30.534           31.82   \n",
            "2025-07-03  31.75  31.97  31.61  31.82  389,928  30.700           31.85   \n",
            "2025-07-02  31.59  31.97  31.51  31.85  199,370  30.862           31.51   \n",
            "2025-07-01  31.70  31.92  31.46  31.51  226,332  31.036           31.45   \n",
            "2025-06-30  30.98  31.54  30.98  31.45  234,082  31.192           31.05   \n",
            "\n",
            "            target_variable  \n",
            "Date                         \n",
            "2025-07-07                1  \n",
            "2025-07-03                1  \n",
            "2025-07-02                0  \n",
            "2025-07-01                0  \n",
            "2025-06-30                0  \n"
          ]
        }
      ],
      "source": [
        "\n",
        "import subprocess\n",
        "import sys\n",
        "\n",
        "def install(package):\n",
        "    subprocess.check_call([sys.executable, \"-m\", \"pip\", \"install\", package])\n",
        "\n",
        "try:\n",
        "    from sklearn.model_selection import KFold\n",
        "except ImportError:\n",
        "    install('scikit-learn')\n",
        "    from sklearn.model_selection import KFold\n",
        "\n",
        "import pandas as pd\n",
        "from scipy.stats import pearsonr\n",
        "import matplotlib.pyplot as plt\n",
        "import numpy as np\n",
        "\n",
        "data_file = \"/content/FUND_US_BATS_ECH.csv\"\n",
        "\n",
        "# Read the CSV directly, as it has a header row\n",
        "df = pd.read_csv(data_file)\n",
        "\n",
        "# Set the 'Date' column as index and convert to datetime\n",
        "df[\"Date\"] = pd.to_datetime(df[\"Date\"])\n",
        "df.set_index(\"Date\", inplace=True)\n",
        "\n",
        "# Ensure 'Close' column is numeric, handling potential commas in numbers\n",
        "df[\"Close\"] = df[\"Close\"].replace({r'[^0-9.]': ''}, regex=True).astype(float)\n",
        "\n",
        "# Calculate a simple technical indicator: 10-day Simple Moving Average (SMA)\n",
        "df[\"SMA_10\"] = df[\"Close\"].rolling(window=10).mean()\n",
        "\n",
        "# Define the target variable: next day's price change (1 for up, 0 for down/no change)\n",
        "df[\"next_day_close\"] = df[\"Close\"].shift(-1)\n",
        "df[\"target_variable\"] = (df[\"next_day_close\"] > df[\"Close\"]).astype(int)\n",
        "\n",
        "# Drop NaN values created by rolling mean and shifting, and any NaNs from coerce\n",
        "df.dropna(inplace=True)\n",
        "\n",
        "print(\"\\nProcessed Data Head:\")\n",
        "print(df.head())\n"
      ],
      "id": "btMzn4oJlY3_"
    },
    {
      "cell_type": "code",
      "execution_count": null,
      "metadata": {
        "colab": {
          "base_uri": "https://localhost:8080/"
        },
        "id": "6AZ9N2-IlY4A",
        "outputId": "f398dd8c-7493-48ee-b2a2-0aef9c3fbb4f"
      },
      "outputs": [
        {
          "output_type": "stream",
          "name": "stdout",
          "text": [
            "\n",
            "Fold 1 - Validation Data Shape: (3, 8)\n",
            "Fold 1 - SMA_10 unique values: 3\n",
            "Fold 1 - target_variable unique values: 1\n",
            "Skipping correlation for Fold 1 due to constant input.\n",
            "\n",
            "Fold 2 - Validation Data Shape: (2, 8)\n",
            "Fold 2 - SMA_10 unique values: 2\n",
            "Fold 2 - target_variable unique values: 2\n",
            "\n",
            "Fold 3 - Validation Data Shape: (2, 8)\n",
            "Fold 3 - SMA_10 unique values: 2\n",
            "Fold 3 - target_variable unique values: 2\n",
            "\n",
            "Fold 4 - Validation Data Shape: (2, 8)\n",
            "Fold 4 - SMA_10 unique values: 2\n",
            "Fold 4 - target_variable unique values: 2\n",
            "\n",
            "Fold 5 - Validation Data Shape: (2, 8)\n",
            "Fold 5 - SMA_10 unique values: 2\n",
            "Fold 5 - target_variable unique values: 1\n",
            "Skipping correlation for Fold 5 due to constant input.\n",
            "\n",
            "Average Correlation across 5 folds: 0.3333\n"
          ]
        }
      ],
      "source": [
        "\n",
        "features = [\"SMA_10\"]\n",
        "target = \"target_variable\"\n",
        "\n",
        "n_splits = 5\n",
        "kf = KFold(n_splits=n_splits, shuffle=True, random_state=42)\n",
        "\n",
        "correlation_scores = []\n",
        "\n",
        "for fold_idx, (train_index, val_index) in enumerate(kf.split(df)):\n",
        "    val_df = df.iloc[val_index]\n",
        "\n",
        "    print(f\"\\nFold {fold_idx + 1} - Validation Data Shape: {val_df.shape}\")\n",
        "    print(f\"Fold {fold_idx + 1} - SMA_10 unique values: {val_df[features[0]].nunique()}\")\n",
        "    print(f\"Fold {fold_idx + 1} - target_variable unique values: {val_df[target].nunique()}\")\n",
        "\n",
        "    if val_df[features[0]].nunique() > 1 and val_df[target].nunique() > 1:\n",
        "        # Calculate Pearson correlation on the validation set\n",
        "        correlation, _ = pearsonr(val_df[features[0]], val_df[target])\n",
        "        correlation_scores.append(correlation)\n",
        "    else:\n",
        "        print(f\"Skipping correlation for Fold {fold_idx + 1} due to constant input.\")\n",
        "        correlation_scores.append(float('nan')) # Append NaN if correlation is undefined\n",
        "\n",
        "# Filter out NaN values before calculating average correlation\n",
        "valid_correlation_scores = [score for score in correlation_scores if not pd.isna(score)]\n",
        "\n",
        "if valid_correlation_scores:\n",
        "    average_correlation = sum(valid_correlation_scores) / len(valid_correlation_scores)\n",
        "else:\n",
        "    average_correlation = float('nan')\n",
        "\n",
        "print(f\"\\nAverage Correlation across {n_splits} folds: {average_correlation:.4f}\")\n"
      ],
      "id": "6AZ9N2-IlY4A"
    },
    {
      "cell_type": "code",
      "execution_count": null,
      "metadata": {
        "colab": {
          "base_uri": "https://localhost:8080/"
        },
        "id": "RvMiy_DalY4A",
        "outputId": "c4b0481d-d4f9-49f2-d634-0e5c2fc655f6"
      },
      "outputs": [
        {
          "output_type": "stream",
          "name": "stdout",
          "text": [
            "\n",
            "Replication Results Table:\n",
            "Fund Feature Set Metric (Average Correlation)\n",
            " ECH      SMA_10                       0.3333\n",
            "\n",
            "Replication table saved to replication_table.md\n"
          ]
        }
      ],
      "source": [
        "\n",
        "results = {\n",
        "    \"Fund\": [\"ECH\"],\n",
        "    \"Feature Set\": [\"SMA_10\"],\n",
        "    \"Metric (Average Correlation)\": [f\"{average_correlation:.4f}\"]\n",
        "}\n",
        "results_df = pd.DataFrame(results)\n",
        "\n",
        "print(\"\\nReplication Results Table:\")\n",
        "print(results_df.to_string(index=False))\n",
        "\n",
        "with open(\"replication_table.md\", \"w\") as f:\n",
        "    f.write(results_df.to_markdown(index=False))\n",
        "\n",
        "print(\"\\nReplication table saved to replication_table.md\")\n"
      ],
      "id": "RvMiy_DalY4A"
    },
    {
      "cell_type": "code",
      "execution_count": null,
      "metadata": {
        "colab": {
          "base_uri": "https://localhost:8080/",
          "height": 455
        },
        "id": "rsxcUI7MlY4B",
        "outputId": "7bdb7349-4945-4c05-e736-5955412c968b"
      },
      "outputs": [
        {
          "output_type": "display_data",
          "data": {
            "text/plain": [
              "<Figure size 1200x600 with 1 Axes>"
            ],
            "image/png": "[encoded data removed]"
          },
          "metadata": {}
        },
        {
          "output_type": "stream",
          "name": "stdout",
          "text": [
            "Historical price graph saved to ECH_historical_price.png\n"
          ]
        }
      ],
      "source": [
        "\n",
        "plt.figure(figsize=(12, 6))\n",
        "plt.plot(df.index, df[\"Close\"], label=\"ECH Close Price\")\n",
        "plt.title(\"Historical Close Price for ECH\")\n",
        "plt.xlabel(\"Date\")\n",
        "plt.ylabel(\"Close Price (USD)\")\n",
        "plt.legend()\n",
        "plt.grid(True)\n",
        "plt.tight_layout()\n",
        "plt.savefig(\"ECH_historical_price.png\")\n",
        "plt.show()\n",
        "print(\"Historical price graph saved to ECH_historical_price.png\")\n"
      ],
      "id": "rsxcUI7MlY4B"
    },
    {
      "cell_type": "markdown",
      "metadata": {
        "id": "h1YmWhF7lY4B"
      },
      "source": [
        "\n",
        "## Results Interpretation\n",
        "\n",
        "### K-Fold Cross-Validation Results\n",
        "\n",
        "The k-fold cross-validation with correlation as the metric yielded an average correlation of approximately 0.3333 between the 10-day Simple Moving Average (SMA_10) and the next day's price movement direction. This value is derived from the folds where correlation could be calculated (i.e., where both the feature and target variables were not constant).\n",
        "\n",
        "### Analysis\n",
        "\n",
        "1. **Weak Positive Correlation**: The correlation value of 0.3333 indicates a weak positive relationship between the SMA_10 indicator and the next day's price movement. This suggests that while there is a tendency for the price to move in the same direction as the SMA_10, the relationship is not strong enough to be a reliable predictor on its own.\n",
        "\n",
        "2. **Statistical Significance**: The presence of `ConstantInputWarning` for some folds indicates that the data within those specific validation sets was not sufficiently varied for both the SMA_10 and the target variable. This can happen with small datasets or when the data exhibits very little change over short periods, leading to a constant value for either the feature or the target. When such conditions occur, the Pearson correlation coefficient is undefined, and these folds were excluded from the average calculation.\n",
        "\n",
        "3. **Comparison to Literature**: This result, while showing a weak positive correlation, still highlights the challenge of predicting stock market movements with simple indicators. The original research paper's emphasis on feature selection and optimization to identify more robust predictive signals is further reinforced by these findings.\n",
        "\n",
        "### Limitations and Future Work\n",
        "\n",
        "1. **Dataset Size**: The provided dataset is relatively small, which can lead to issues like constant input in cross-validation folds, making correlation calculations unreliable for those specific folds. A larger dataset would provide more robust results.\n",
        "\n",
        "2. **Single Indicator**: This replication used only one simple technical indicator (SMA_10). The original paper used multiple optimized technical indicators.\n",
        "\n",
        "3. **Simple Target Variable**: We used a binary classification approach (price up/down), while more sophisticated approaches could consider magnitude of price changes.\n",
        "\n",
        "4. **Data Cleaning**: While basic cleaning for numeric conversion was applied, more extensive data cleaning and outlier handling might be beneficial for real-world applications.\n",
        "\n",
        "### Conclusion\n",
        "\n",
        "This replication successfully demonstrates the k-fold cross-validation methodology using the provided `FUND_US_BATS_ECH.csv` data. The results indicate a weak positive correlation between SMA_10 and next-day price movement, underscoring the complexity of financial market prediction. The methodology can be extended to include multiple indicators and more sophisticated machine learning models, as demonstrated in the original research paper, and would benefit significantly from a larger and more diverse dataset.\n"
      ],
      "id": "h1YmWhF7lY4B"
    },
    {
      "cell_type": "markdown",
      "metadata": {
        "id": "7dPyRdYBlY4C"
      },
      "source": [
        "\n",
        "## References\n",
        "\n",
        "[1] Sagaceta Mejia, A. R., Sánchez-Gutiérrez, M. E., & Fresán-Figueroa, J. A. (2022). An Intelligent Approach for Predicting Stock Market Movements in Emerging Markets Using Optimized Technical Indicators and Neural Networks. *Economics*, *18*(1), 14–29. [https://www.degruyterbrill.com/document/doi/10.1515/econ-2022-0073/html](https://www.degruyterbrill.com/document/doi/10.1515/econ-2022-0073/html)\n"
      ],
      "id": "7dPyRdYBlY4C"
    }
  ],
  "metadata": {
    "kernelspec": {
      "display_name": "Python 3",
      "language": "python",
      "name": "python3"
    },
    "language_info": {
      "codemirror_mode": {
        "name": "ipython",
        "version": 3
      },
      "file_extension": ".py",
      "mimetype": "text/x-python",
      "name": "python",
      "nbconvert_exporter": "python",
      "pygments_lexer": "ipython3",
      "version": "3.11.0"
    },
    "colab": {
      "provenance": [],
      "include_colab_link": true
    }
  }
}